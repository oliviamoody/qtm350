{
 "cells": [
  {
   "cell_type": "markdown",
   "metadata": {},
   "source": [
    "# Assignment 10: Join and Merge in SQL\n",
    "\n",
    "## Introduction\n",
    "\n",
    "For this assignment, you will continue working with SQL databases. This time, you should use Python to write the SQL questies. If possible, please submit your answers in HTML format. The data and questions are listed below.\n"
   ]
  },
  {
   "cell_type": "code",
   "execution_count": null,
   "metadata": {
    "vscode": {
     "languageId": "sql"
    }
   },
   "outputs": [],
   "source": [
    "DROP TABLE IF EXISTS directors CASCADE;\n",
    "DROP TABLE IF EXISTS movies CASCADE;\n",
    "CREATE TABLE directors (\n",
    "    director_id SERIAL PRIMARY KEY,\n",
    "    director_name VARCHAR(100),\n",
    "    country VARCHAR(50),\n",
    "    birth_year INT,\n",
    "    awards INT\n",
    ");\n",
    "\n",
    "CREATE TABLE movies (\n",
    "    movie_id SERIAL PRIMARY KEY,\n",
    "    title VARCHAR(100),\n",
    "    director_id INT,\n",
    "    release_year INT,\n",
    "    box_office DECIMAL(12,2),\n",
    "    rating DECIMAL(3,1),\n",
    "    FOREIGN KEY (director_id) REFERENCES directors(director_id)\n",
    ");\n",
    "\n",
    "INSERT INTO directors (director_name, country, birth_year, awards) VALUES\n",
    "('Christopher Nolan', 'UK', 1970, 5),\n",
    "('Greta Gerwig', 'USA', 1983, 3),\n",
    "('Bong Joon-ho', 'South Korea', 1969, 4),\n",
    "('Sofia Coppola', 'USA', 1971, 2),\n",
    "('Pedro Almodóvar', 'Spain', 1949, 6),\n",
    "('Agnès Varda', 'France', 1928, 4);\n",
    "\n",
    "INSERT INTO movies (title, director_id, release_year, box_office, rating) VALUES\n",
    "('Oppenheimer', 1, 2023, 950000000.00, 8.5),\n",
    "('Barbie', 2, 2023, 1440000000.00, 7.0),\n",
    "('Parasite', 3, 2019, 258773645.00, 8.9),\n",
    "('Lost in Translation', 4, 2003, 119723856.00, 7.7),\n",
    "('Pain and Glory', 5, 2019, 38219573.00, 7.5),\n",
    "('Faces Places', 6, 2017, 903996.00, 7.9),\n",
    "('Inception', 1, 2010, 836836967.00, 8.8),\n",
    "('Lady Bird', 2, 2017, 78965367.00, 7.4);"
   ]
  },
  {
   "cell_type": "code",
   "execution_count": null,
   "metadata": {},
   "outputs": [],
   "source": [
    "# Please import the necessary packages and establish the connection to the database"
   ]
  },
  {
   "cell_type": "markdown",
   "metadata": {},
   "source": [
    "1. Write a query using `INNER JOIN` to display the movie title, director name, and box office earnings for all movies, ordered by box office earnings in descending order"
   ]
  },
  {
   "cell_type": "code",
   "execution_count": null,
   "metadata": {},
   "outputs": [],
   "source": [
    "# Your code goes here"
   ]
  },
  {
   "cell_type": "markdown",
   "metadata": {},
   "source": [
    "2. Using a `LEFT JOIN`, find all directors and count the number of movies they have directed."
   ]
  },
  {
   "cell_type": "code",
   "execution_count": null,
   "metadata": {},
   "outputs": [],
   "source": [
    "# Your code goes here"
   ]
  },
  {
   "cell_type": "markdown",
   "metadata": {},
   "source": [
    "3. Write a `SELF JOIN` query to compare the ratings of movies by the same director. Show only pairs where the second movie has a higher rating than the first."
   ]
  },
  {
   "cell_type": "code",
   "execution_count": null,
   "metadata": {},
   "outputs": [],
   "source": [
    "# Your code goes here"
   ]
  },
  {
   "cell_type": "markdown",
   "metadata": {},
   "source": [
    "4. Using appropriate joins, find directors who have made movies with above-average box office earnings (compared to all movies in the database)."
   ]
  },
  {
   "cell_type": "code",
   "execution_count": null,
   "metadata": {},
   "outputs": [],
   "source": [
    "# Your code goes here"
   ]
  },
  {
   "cell_type": "markdown",
   "metadata": {},
   "source": [
    "5. Create a query using `CROSS JOIN` to show all possible combinations of directors and movies, even if they did not direct them. Limit the output to 10 rows.\n"
   ]
  },
  {
   "cell_type": "code",
   "execution_count": null,
   "metadata": {},
   "outputs": [],
   "source": [
    "# Your code goes here"
   ]
  },
  {
   "cell_type": "markdown",
   "metadata": {},
   "source": [
    "6. Write a query that uses `UNION` to create a list of all director names and movie titles in a single column. Label the column `name` and include a column (called `type`) indicating if it is a director or movie. Order the results by type and name.\n",
    "\n",
    "Hint: Use `'Director'` and `'Movie'` as the labels for the second column. Please also use `as type` to rename the column (example `director_name as name, 'Director' as type`)."
   ]
  },
  {
   "cell_type": "code",
   "execution_count": null,
   "metadata": {},
   "outputs": [],
   "source": [
    "# Your code goes here"
   ]
  },
  {
   "cell_type": "markdown",
   "metadata": {},
   "source": [
    "7. Using appropriate joins, find the director with the highest average movie rating. Show only the row with the director's name, average rating, and number of movies."
   ]
  },
  {
   "cell_type": "code",
   "execution_count": null,
   "metadata": {},
   "outputs": [],
   "source": [
    "# Your code goes here"
   ]
  },
  {
   "cell_type": "markdown",
   "metadata": {},
   "source": [
    "8. Create a query using `LEFT JOIN` and `IS NULL` to find whether there are directors who have not directed any movies."
   ]
  },
  {
   "cell_type": "code",
   "execution_count": null,
   "metadata": {},
   "outputs": [],
   "source": [
    "# Your code goes here"
   ]
  },
  {
   "cell_type": "markdown",
   "metadata": {},
   "source": [
    "9. Using appropriate joins, find pairs of movies released in the same year, along with their directors' names. Please do not match a movie with itself. "
   ]
  },
  {
   "cell_type": "code",
   "execution_count": null,
   "metadata": {},
   "outputs": [],
   "source": [
    "# Your code goes here"
   ]
  },
  {
   "cell_type": "markdown",
   "metadata": {},
   "source": [
    "10. Show the age of each director when they released their movies. Create a column entitled `age_at_release` in your output. Order the results by the director's name and the movie's release year."
   ]
  },
  {
   "cell_type": "code",
   "execution_count": null,
   "metadata": {},
   "outputs": [],
   "source": [
    "# Your code goes here"
   ]
  },
  {
   "cell_type": "markdown",
   "metadata": {},
   "source": [
    "Good luck! 😃"
   ]
  }
 ],
 "metadata": {
  "kernelspec": {
   "display_name": "base",
   "language": "python",
   "name": "python3"
  },
  "language_info": {
   "codemirror_mode": {
    "name": "ipython",
    "version": 3
   },
   "file_extension": ".py",
   "mimetype": "text/x-python",
   "name": "python",
   "nbconvert_exporter": "python",
   "pygments_lexer": "ipython3",
   "version": "3.12.2"
  }
 },
 "nbformat": 4,
 "nbformat_minor": 2
}
