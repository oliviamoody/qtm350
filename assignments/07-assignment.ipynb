{
 "cells": [
  {
   "cell_type": "markdown",
   "metadata": {},
   "source": [
    "## QTM 350: Data Science Computing\n",
    "\n",
    "### Assignment 07 - Python Data Structures, Boolean Logic, and Control Structures.\n",
    "\n",
    "### Due Date: 11:59 PM on Wednesday, October 23, 2024"
   ]
  },
  {
   "cell_type": "markdown",
   "metadata": {},
   "source": [
    "### Instructions\n",
    "\n",
    "In this assignment, you will show your understanding of basic Python data and control structures. The questions are designed to test your understanding of the material covered in the previous lecture. Feel free to use any resources available to you to complete this assignment.\n",
    "\n",
    "As always, should you have any questions, please let me know.\n",
    "\n",
    "### Tasks\n",
    "\n",
    "1. Which of the following are valid Python variable names, and why: `_data`, `2nd_value`, `myVar`, `class`, `t0T4L-4M0UnT`?\n",
    "   \n",
    "2. Why does the statement `3 is 3.0` return `False` in Python, but `3 == 3.0` returns `True`? What concepts are involved here?\n",
    "   \n",
    "3. Given a string `s = \"DataScienceIsAwesome\"`, write Python expressions to:\n",
    "  - Extract \"Science\"\n",
    "  - Reverse the entire string\n",
    "  - Extract every second character starting from the first character\n",
    "  \n",
    "4. Given a dictionary representing students and their grades:\n",
    "\n",
    "```python\n",
    "grades = {\n",
    "    \"Alice\": 90,\n",
    "    \"Bob\": 85,\n",
    "    \"Charlie\": 80,\n",
    "    \"Eve\": 95\n",
    "}\n",
    "```\n",
    "  - Add a new student `\"David\"` with a grade of `87`.\n",
    "  - Update `\"Alice\"`'s grade to `95`.\n",
    "  - Remove `\"Charlie\"` from the dictionary.\n",
    "  \n",
    "5. Explain the difference between `//` and `/` operators. Provide an example where the distinction is important and describe a potential error if they are used interchangeably.\n",
    "\n",
    "6. Write a Python program that takes the list below and prints each name that contains the letter `a` or `A`. Use a `for` loop and a conditional statement.\n",
    "\n",
    "```python\n",
    "names = [\"Andrew\", \"Betty\", \"Charlie\", \"Daniel\", \"Edward\", \"Frank\", \"George\", \"Hannah\", \"Isaac\", \"Jack\"]\n",
    "```\n",
    "\n",
    "7. _Without running the code_, what will be the value of `x` at the end of the following Python snippet? Explain the order in which operations are performed.\n",
    "   \n",
    "```python\n",
    "x = 5\n",
    "x += x * (x - 1)\n",
    "```\n",
    "\n",
    "8. Given the list:\n",
    "\n",
    "```python\n",
    "lst = [[[1, 2], [3, 4]], [[5, 6], [7, 8]]]\n",
    "```\n",
    "Write Python code to:\n",
    "  - Extract the value 4\n",
    "  - Replace the value 7 with 10\n",
    "  - Print the entire modified list\n",
    "\n",
    "9. A [ternary expression](https://book.pythontips.com/en/latest/ternary_operators.html) is a concise way of writing an if-else statement in a single line. Rewrite the following code using a ternary conditional operator:\n",
    "   \n",
    "```python\n",
    "if len(my_list) > 5:\n",
    "    result = \"long\"\n",
    "else:\n",
    "    result = \"short\"\n",
    "```\n",
    "\n",
    "10. Write a list comprehension that generates a list of tuples, where each tuple contains a number and its cube, for all numbers from 1 to 10."
   ]
  }
 ],
 "metadata": {
  "kernelspec": {
   "display_name": "base",
   "language": "python",
   "name": "python3"
  },
  "language_info": {
   "codemirror_mode": {
    "name": "ipython",
    "version": 3
   },
   "file_extension": ".py",
   "mimetype": "text/x-python",
   "name": "python",
   "nbconvert_exporter": "python",
   "pygments_lexer": "ipython3",
   "version": "3.12.2"
  }
 },
 "nbformat": 4,
 "nbformat_minor": 2
}
